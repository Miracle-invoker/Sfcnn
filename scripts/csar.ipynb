{
 "cells": [
  {
   "cell_type": "code",
   "execution_count": 11,
   "id": "d585a564",
   "metadata": {},
   "outputs": [],
   "source": [
    "import os\n",
    "import predict\n",
    "import importlib\n",
    "import tensorflow as tf\n",
    "from openbabel import pybel\n",
    "from glob import glob"
   ]
  },
  {
   "cell_type": "markdown",
   "id": "b044b7f9",
   "metadata": {},
   "source": [
    "# CASR_HiQ_NRC_set"
   ]
  },
  {
   "cell_type": "code",
   "execution_count": 7,
   "id": "a40679aa",
   "metadata": {},
   "outputs": [],
   "source": [
    "dirs1 = glob('CSAR_NRC_HiQ_Set/Structures/set1/*')\n",
    "dirs1.sort()\n",
    "dirs2 = glob('CSAR_NRC_HiQ_Set/Structures/set2/*')\n",
    "dirs2.sort()"
   ]
  },
  {
   "cell_type": "code",
   "execution_count": 8,
   "id": "2ac2a860",
   "metadata": {},
   "outputs": [],
   "source": [
    "for d in dirs1:\n",
    "    n = os.path.split(d)[-1]\n",
    "    complex_name = d+'/set1_'+n+'_complex.mol2'\n",
    "    tmp1_name = d+'/tmp1.pdb'\n",
    "    plcomplex = next(pybel.readfile('mol2', complex_name))\n",
    "    plcomplex.write('pdb', tmp1_name, overwrite=True)"
   ]
  },
  {
   "cell_type": "code",
   "execution_count": 9,
   "id": "4e49d73c",
   "metadata": {},
   "outputs": [],
   "source": [
    "for d in dirs2:\n",
    "    n = os.path.split(d)[-1]\n",
    "    complex_name = d+'/set2_'+n+'_complex.mol2'\n",
    "    tmp1_name = d+'/tmp1.pdb'\n",
    "    plcomplex = next(pybel.readfile('mol2', complex_name))\n",
    "    plcomplex.write('pdb', tmp1_name, overwrite=True)"
   ]
  },
  {
   "cell_type": "code",
   "execution_count": 22,
   "id": "c0d9ad83",
   "metadata": {},
   "outputs": [],
   "source": [
    "aa = []\n",
    "for d in dirs1:\n",
    "    n = os.path.split(d)[-1]\n",
    "    complex_name = d+'/set1_'+n+'_complex.mol2'\n",
    "    tmp1_name = d+'/tmp1.pdb'\n",
    "#    plcomplex = next(pybel.readfile('mol2', complex_name))\n",
    "#    plcomplex.write('pdb', tmp1_name, overwrite=True)\n",
    "    with open(tmp1_name, 'r') as f:\n",
    "        for line in f.readlines():\n",
    "            if line[:4] == 'ATOM':\n",
    "                if line[17:20] not in aa:\n",
    "                    aa.append(line[17:20])"
   ]
  },
  {
   "cell_type": "code",
   "execution_count": 28,
   "id": "3c595112",
   "metadata": {},
   "outputs": [],
   "source": [
    "for d in dirs2:\n",
    "    n = os.path.split(d)[-1]\n",
    "#    complex_name = d+'/set2_'+n+'_complex.mol2'\n",
    "    tmp1_name = d+'/tmp1.pdb'\n",
    "#    plcomplex = next(pybel.readfile('mol2', complex_name))\n",
    "#    plcomplex.write('pdb', tmp1_name, overwrite=True)\n",
    "    with open(tmp1_name, 'r') as f:\n",
    "        for line in f.readlines():\n",
    "            if line[:4] == 'ATOM':\n",
    "                if line[17:20] not in aa:\n",
    "                    aa.append(line[17:20])"
   ]
  },
  {
   "cell_type": "code",
   "execution_count": 36,
   "id": "98d4654f",
   "metadata": {},
   "outputs": [],
   "source": [
    "for d in dirs1:\n",
    "    flag = 0\n",
    "    tmp1_name = d+'/tmp1.pdb'\n",
    "    with open(tmp1_name, 'r') as f:\n",
    "        for line in f.readlines():\n",
    "            if line[17:20] == 'INH':\n",
    "                flag = 1\n",
    "                break\n",
    "        if flag == 0:\n",
    "            print(d)\n",
    "            \n",
    "#all ligands are named by 'INH'            "
   ]
  },
  {
   "cell_type": "code",
   "execution_count": 10,
   "id": "804b9d92",
   "metadata": {},
   "outputs": [],
   "source": [
    "for d in dirs1:\n",
    "    tmp1_name = d+'/tmp1.pdb'\n",
    "    tmp2_name = d+'/tmp2.pdb'\n",
    "    tmp3_name = d+'/tmp3.pdb'\n",
    "    f2 = open(tmp2_name, 'w')\n",
    "    f3 = open(tmp3_name, 'w')\n",
    "    with open(tmp1_name, 'r') as f:\n",
    "        for line in f.readlines():\n",
    "            if line[:4] == 'ATOM':\n",
    "                if line[17:20] == 'INH':\n",
    "                    f3.write(line)\n",
    "                else:\n",
    "                    f2.write(line)   \n",
    "    f2.close()\n",
    "    f3.close()\n",
    "#tmp2.pdb   protein\n",
    "#tmp3.pdb   ligand"
   ]
  },
  {
   "cell_type": "code",
   "execution_count": 11,
   "id": "4f2406cc",
   "metadata": {},
   "outputs": [],
   "source": [
    "for d in dirs2:\n",
    "    tmp1_name = d+'/tmp1.pdb'\n",
    "    tmp2_name = d+'/tmp2.pdb'\n",
    "    tmp3_name = d+'/tmp3.pdb'\n",
    "    f2 = open(tmp2_name, 'w')\n",
    "    f3 = open(tmp3_name, 'w')\n",
    "    with open(tmp1_name, 'r') as f:\n",
    "        for line in f.readlines():\n",
    "            if line[:4] == 'ATOM':\n",
    "                if line[17:20] == 'INH':\n",
    "                    f3.write(line)\n",
    "                else:\n",
    "                    f2.write(line)   \n",
    "    f2.close()\n",
    "    f3.close()  "
   ]
  },
  {
   "cell_type": "code",
   "execution_count": null,
   "id": "d1491443",
   "metadata": {},
   "outputs": [],
   "source": [
    "#set1_1_complex.mol2\n",
    "importlib.reload(predict)\n",
    "model = predict.build_model()\n",
    "with open('evaluation_set1_complex.csv', 'w') as f1:\n",
    "    f1.write('#id\\tscore\\n')\n",
    "    for d in dirs1:\n",
    "        n = os.path.split(d)[-1]\n",
    "        proteinfile = d+'/tmp2.pdb'\n",
    "        ligandfile = d+'/tmp3.pdb'\n",
    "        protein = next(pybel.readfile('pdb',proteinfile))\n",
    "        ligand = next(pybel.readfile('pdb',ligandfile))\n",
    "        result = predict.predict(protein, ligand, model)\n",
    "        f1.write(n+'\\t%.4f\\n' % result)   "
   ]
  },
  {
   "cell_type": "code",
   "execution_count": 46,
   "id": "d728fc48",
   "metadata": {},
   "outputs": [],
   "source": [
    "#set2_1_complex.mol2\n",
    "importlib.reload(predict)\n",
    "model = predict.build_model()\n",
    "with open('evaluation_set2_complex.csv', 'w') as f1:\n",
    "    f1.write('#id\\tscore\\n')\n",
    "    for d in dirs2:\n",
    "        n = os.path.split(d)[-1]\n",
    "        proteinfile = d+'/tmp2.pdb'\n",
    "        ligandfile = d+'/tmp3.pdb'\n",
    "        protein = next(pybel.readfile('pdb',proteinfile))\n",
    "        ligand = next(pybel.readfile('pdb',ligandfile))\n",
    "        result = predict.predict(protein, ligand, model)\n",
    "        f1.write(n+'\\t%.4f\\n' % result)      \n"
   ]
  },
  {
   "cell_type": "code",
   "execution_count": 26,
   "id": "e7869622",
   "metadata": {},
   "outputs": [],
   "source": [
    "csarkd = ''\n",
    "for d in dirs1:\n",
    "    kd_name = d+'/kd.dat'\n",
    "    with open(kd_name, 'r') as f:\n",
    "        csarkd += f.readline() \n",
    "with open('set1_kd.csv', 'w') as f:\n",
    "    f.write(csarkd)       "
   ]
  },
  {
   "cell_type": "code",
   "execution_count": null,
   "id": "9a4a82d7",
   "metadata": {},
   "outputs": [],
   "source": [
    "csarkd = ''\n",
    "for d in dirs2:\n",
    "    kd_name = d+'/kd.dat'\n",
    "    with open(kd_name, 'r') as f:\n",
    "        csarkd += f.readline() \n",
    "with open('set2_kd.csv', 'w') as f:\n",
    "    f.write(csarkd)    "
   ]
  },
  {
   "cell_type": "markdown",
   "id": "89cd8ca2",
   "metadata": {},
   "source": [
    "### analysis"
   ]
  },
  {
   "cell_type": "code",
   "execution_count": 1,
   "id": "f4ea4d28",
   "metadata": {},
   "outputs": [],
   "source": [
    "import numpy as np\n",
    "import pandas as pd\n",
    "import scipy\n",
    "from sklearn import linear_model\n",
    "from sklearn.metrics import mean_squared_error"
   ]
  },
  {
   "cell_type": "code",
   "execution_count": 47,
   "id": "6f8ab17e",
   "metadata": {},
   "outputs": [],
   "source": [
    "dfset1 = pd.read_csv('set1_kd.csv',header=None,names=['#id','pdbid','true'])\n",
    "dfpre = pd.read_csv('evaluation_set1_complex.csv',sep='\\t')\n",
    "df=pd.merge(dfset1,dfpre,on='#id')\n",
    "df.to_csv('set1_complex.csv',index=None)"
   ]
  },
  {
   "cell_type": "code",
   "execution_count": 50,
   "id": "1852e8fd",
   "metadata": {},
   "outputs": [
    {
     "data": {
      "text/html": [
       "<div>\n",
       "<style scoped>\n",
       "    .dataframe tbody tr th:only-of-type {\n",
       "        vertical-align: middle;\n",
       "    }\n",
       "\n",
       "    .dataframe tbody tr th {\n",
       "        vertical-align: top;\n",
       "    }\n",
       "\n",
       "    .dataframe thead th {\n",
       "        text-align: right;\n",
       "    }\n",
       "</style>\n",
       "<table border=\"1\" class=\"dataframe\">\n",
       "  <thead>\n",
       "    <tr style=\"text-align: right;\">\n",
       "      <th></th>\n",
       "      <th>true</th>\n",
       "      <th>score</th>\n",
       "    </tr>\n",
       "  </thead>\n",
       "  <tbody>\n",
       "    <tr>\n",
       "      <th>true</th>\n",
       "      <td>1.000000</td>\n",
       "      <td>0.867247</td>\n",
       "    </tr>\n",
       "    <tr>\n",
       "      <th>score</th>\n",
       "      <td>0.867247</td>\n",
       "      <td>1.000000</td>\n",
       "    </tr>\n",
       "  </tbody>\n",
       "</table>\n",
       "</div>"
      ],
      "text/plain": [
       "           true     score\n",
       "true   1.000000  0.867247\n",
       "score  0.867247  1.000000"
      ]
     },
     "execution_count": 50,
     "metadata": {},
     "output_type": "execute_result"
    }
   ],
   "source": [
    "df[['true','score']].corr() "
   ]
  },
  {
   "cell_type": "code",
   "execution_count": null,
   "id": "6be8618f",
   "metadata": {},
   "outputs": [],
   "source": [
    "dfset2 = pd.read_csv('set2_kd.csv',header=None,names=['#id','pdbid','true'])\n",
    "dfpre = pd.read_csv('evaluation_set2_complex.csv',sep='\\t')\n",
    "df=pd.merge(dfset2,dfpre,on='#id')\n",
    "df.to_csv('set2_complex.csv',index=None)"
   ]
  },
  {
   "cell_type": "code",
   "execution_count": null,
   "id": "815a5d25",
   "metadata": {},
   "outputs": [],
   "source": [
    "complex:    set2: 0.8684        set1: 0.7840\n",
    "exclude overlap:  set2: #78, 0.7452,  1.5027,  1.1427,  1.4793               set1: #71,  0.6311  #R,  2.0924  #rmse,   1.6155   #mae,   2.1001"
   ]
  },
  {
   "cell_type": "code",
   "execution_count": 12,
   "id": "5460dac6",
   "metadata": {},
   "outputs": [],
   "source": [
    "train_dirs = glob(os.path.join('trainset','*'))\n",
    "train_dirs.sort()\n",
    "train_id = [os.path.split(i)[-1] for i in train_dirs]"
   ]
  },
  {
   "cell_type": "code",
   "execution_count": 2,
   "id": "2b1126eb",
   "metadata": {},
   "outputs": [],
   "source": [
    "df1 = pd.read_csv('set1_complex.csv')\n",
    "df2 = pd.read_csv('set2_complex.csv')"
   ]
  },
  {
   "cell_type": "code",
   "execution_count": 3,
   "id": "dc22cf3a",
   "metadata": {},
   "outputs": [],
   "source": [
    "dfall = pd.concat([df1,df2], axis = 0)"
   ]
  },
  {
   "cell_type": "code",
   "execution_count": 7,
   "id": "e581e138",
   "metadata": {},
   "outputs": [
    {
     "data": {
      "text/html": [
       "<div>\n",
       "<style scoped>\n",
       "    .dataframe tbody tr th:only-of-type {\n",
       "        vertical-align: middle;\n",
       "    }\n",
       "\n",
       "    .dataframe tbody tr th {\n",
       "        vertical-align: top;\n",
       "    }\n",
       "\n",
       "    .dataframe thead th {\n",
       "        text-align: right;\n",
       "    }\n",
       "</style>\n",
       "<table border=\"1\" class=\"dataframe\">\n",
       "  <thead>\n",
       "    <tr style=\"text-align: right;\">\n",
       "      <th></th>\n",
       "      <th>true</th>\n",
       "      <th>score</th>\n",
       "    </tr>\n",
       "  </thead>\n",
       "  <tbody>\n",
       "    <tr>\n",
       "      <th>true</th>\n",
       "      <td>1.000000</td>\n",
       "      <td>0.823992</td>\n",
       "    </tr>\n",
       "    <tr>\n",
       "      <th>score</th>\n",
       "      <td>0.823992</td>\n",
       "      <td>1.000000</td>\n",
       "    </tr>\n",
       "  </tbody>\n",
       "</table>\n",
       "</div>"
      ],
      "text/plain": [
       "           true     score\n",
       "true   1.000000  0.823992\n",
       "score  0.823992  1.000000"
      ]
     },
     "execution_count": 7,
     "metadata": {},
     "output_type": "execute_result"
    }
   ],
   "source": [
    "dfall[['true','score']].corr() "
   ]
  },
  {
   "cell_type": "code",
   "execution_count": 8,
   "id": "d126526d",
   "metadata": {},
   "outputs": [
    {
     "data": {
      "text/plain": [
       "1.2770677130680785"
      ]
     },
     "execution_count": 8,
     "metadata": {},
     "output_type": "execute_result"
    }
   ],
   "source": [
    "np.sqrt(np.mean((dfall['true']-dfall['score'])**2))    ###rmse"
   ]
  },
  {
   "cell_type": "code",
   "execution_count": 9,
   "id": "2f489f15",
   "metadata": {},
   "outputs": [
    {
     "data": {
      "text/plain": [
       "0.8375104956268224"
      ]
     },
     "execution_count": 9,
     "metadata": {},
     "output_type": "execute_result"
    }
   ],
   "source": [
    "np.mean(np.abs(dfall['true']-dfall['score'])) "
   ]
  },
  {
   "cell_type": "markdown",
   "id": "7ab46995",
   "metadata": {},
   "source": [
    "### exclud overlaps"
   ]
  },
  {
   "cell_type": "code",
   "execution_count": 13,
   "id": "0a844a7d",
   "metadata": {},
   "outputs": [],
   "source": [
    "df1=df1[~df1.pdbid.str[1:5].isin(train_id)]\n",
    "df2=df2[~df2.pdbid.str[1:5].isin(train_id)]"
   ]
  },
  {
   "cell_type": "code",
   "execution_count": 14,
   "id": "db4f7361",
   "metadata": {},
   "outputs": [],
   "source": [
    "df = pd.concat([df1,df2], axis = 0)"
   ]
  },
  {
   "cell_type": "code",
   "execution_count": 15,
   "id": "63764850",
   "metadata": {
    "scrolled": true
   },
   "outputs": [
    {
     "data": {
      "text/html": [
       "<div>\n",
       "<style scoped>\n",
       "    .dataframe tbody tr th:only-of-type {\n",
       "        vertical-align: middle;\n",
       "    }\n",
       "\n",
       "    .dataframe tbody tr th {\n",
       "        vertical-align: top;\n",
       "    }\n",
       "\n",
       "    .dataframe thead th {\n",
       "        text-align: right;\n",
       "    }\n",
       "</style>\n",
       "<table border=\"1\" class=\"dataframe\">\n",
       "  <thead>\n",
       "    <tr style=\"text-align: right;\">\n",
       "      <th></th>\n",
       "      <th>#id</th>\n",
       "      <th>pdbid</th>\n",
       "      <th>true</th>\n",
       "      <th>score</th>\n",
       "    </tr>\n",
       "  </thead>\n",
       "  <tbody>\n",
       "    <tr>\n",
       "      <th>0</th>\n",
       "      <td>1</td>\n",
       "      <td>1w6o</td>\n",
       "      <td>3.34</td>\n",
       "      <td>3.5811</td>\n",
       "    </tr>\n",
       "    <tr>\n",
       "      <th>2</th>\n",
       "      <td>102</td>\n",
       "      <td>2qeh</td>\n",
       "      <td>8.62</td>\n",
       "      <td>5.0152</td>\n",
       "    </tr>\n",
       "    <tr>\n",
       "      <th>3</th>\n",
       "      <td>103</td>\n",
       "      <td>2qvu</td>\n",
       "      <td>6.44</td>\n",
       "      <td>3.9206</td>\n",
       "    </tr>\n",
       "    <tr>\n",
       "      <th>4</th>\n",
       "      <td>104</td>\n",
       "      <td>2r3d</td>\n",
       "      <td>-0.15</td>\n",
       "      <td>4.0153</td>\n",
       "    </tr>\n",
       "    <tr>\n",
       "      <th>6</th>\n",
       "      <td>106</td>\n",
       "      <td>2rde</td>\n",
       "      <td>7.01</td>\n",
       "      <td>6.5830</td>\n",
       "    </tr>\n",
       "    <tr>\n",
       "      <th>...</th>\n",
       "      <td>...</td>\n",
       "      <td>...</td>\n",
       "      <td>...</td>\n",
       "      <td>...</td>\n",
       "    </tr>\n",
       "    <tr>\n",
       "      <th>158</th>\n",
       "      <td>88</td>\n",
       "      <td>1s38</td>\n",
       "      <td>5.15</td>\n",
       "      <td>6.3772</td>\n",
       "    </tr>\n",
       "    <tr>\n",
       "      <th>161</th>\n",
       "      <td>92</td>\n",
       "      <td>1sw1</td>\n",
       "      <td>7.30</td>\n",
       "      <td>6.6355</td>\n",
       "    </tr>\n",
       "    <tr>\n",
       "      <th>163</th>\n",
       "      <td>96</td>\n",
       "      <td>1syi</td>\n",
       "      <td>5.48</td>\n",
       "      <td>5.2428</td>\n",
       "    </tr>\n",
       "    <tr>\n",
       "      <th>164</th>\n",
       "      <td>97</td>\n",
       "      <td>1toj</td>\n",
       "      <td>3.39</td>\n",
       "      <td>4.7673</td>\n",
       "    </tr>\n",
       "    <tr>\n",
       "      <th>165</th>\n",
       "      <td>98</td>\n",
       "      <td>1tok</td>\n",
       "      <td>2.47</td>\n",
       "      <td>4.0943</td>\n",
       "    </tr>\n",
       "  </tbody>\n",
       "</table>\n",
       "<p>149 rows × 4 columns</p>\n",
       "</div>"
      ],
      "text/plain": [
       "     #id   pdbid  true   score\n",
       "0      1   1w6o   3.34  3.5811\n",
       "2    102   2qeh   8.62  5.0152\n",
       "3    103   2qvu   6.44  3.9206\n",
       "4    104   2r3d  -0.15  4.0153\n",
       "6    106   2rde   7.01  6.5830\n",
       "..   ...     ...   ...     ...\n",
       "158   88   1s38   5.15  6.3772\n",
       "161   92   1sw1   7.30  6.6355\n",
       "163   96   1syi   5.48  5.2428\n",
       "164   97   1toj   3.39  4.7673\n",
       "165   98   1tok   2.47  4.0943\n",
       "\n",
       "[149 rows x 4 columns]"
      ]
     },
     "execution_count": 15,
     "metadata": {},
     "output_type": "execute_result"
    }
   ],
   "source": [
    "df"
   ]
  },
  {
   "cell_type": "code",
   "execution_count": 16,
   "id": "f18decfc",
   "metadata": {
    "scrolled": true
   },
   "outputs": [
    {
     "data": {
      "text/html": [
       "<div>\n",
       "<style scoped>\n",
       "    .dataframe tbody tr th:only-of-type {\n",
       "        vertical-align: middle;\n",
       "    }\n",
       "\n",
       "    .dataframe tbody tr th {\n",
       "        vertical-align: top;\n",
       "    }\n",
       "\n",
       "    .dataframe thead th {\n",
       "        text-align: right;\n",
       "    }\n",
       "</style>\n",
       "<table border=\"1\" class=\"dataframe\">\n",
       "  <thead>\n",
       "    <tr style=\"text-align: right;\">\n",
       "      <th></th>\n",
       "      <th>true</th>\n",
       "      <th>score</th>\n",
       "    </tr>\n",
       "  </thead>\n",
       "  <tbody>\n",
       "    <tr>\n",
       "      <th>true</th>\n",
       "      <td>1.00000</td>\n",
       "      <td>0.67575</td>\n",
       "    </tr>\n",
       "    <tr>\n",
       "      <th>score</th>\n",
       "      <td>0.67575</td>\n",
       "      <td>1.00000</td>\n",
       "    </tr>\n",
       "  </tbody>\n",
       "</table>\n",
       "</div>"
      ],
      "text/plain": [
       "          true    score\n",
       "true   1.00000  0.67575\n",
       "score  0.67575  1.00000"
      ]
     },
     "execution_count": 16,
     "metadata": {},
     "output_type": "execute_result"
    }
   ],
   "source": [
    "df[['true','score']].corr() "
   ]
  },
  {
   "cell_type": "code",
   "execution_count": 17,
   "id": "b9d30d5d",
   "metadata": {},
   "outputs": [
    {
     "data": {
      "text/plain": [
       "1.8078527532358797"
      ]
     },
     "execution_count": 17,
     "metadata": {},
     "output_type": "execute_result"
    }
   ],
   "source": [
    "np.sqrt(np.mean((df['true']-df['score'])**2))    ###rmse"
   ]
  },
  {
   "cell_type": "code",
   "execution_count": 18,
   "id": "68c0b69b",
   "metadata": {
    "scrolled": true
   },
   "outputs": [
    {
     "data": {
      "text/plain": [
       "1.3680181208053692"
      ]
     },
     "execution_count": 18,
     "metadata": {},
     "output_type": "execute_result"
    }
   ],
   "source": [
    "np.mean(np.abs(df['true']-df['score'])) "
   ]
  },
  {
   "cell_type": "markdown",
   "id": "494e8488",
   "metadata": {},
   "source": [
    "# astex"
   ]
  },
  {
   "cell_type": "code",
   "execution_count": 40,
   "id": "7a8b33e7",
   "metadata": {},
   "outputs": [],
   "source": [
    "dirs = glob('astex_diverse_set/*')\n",
    "dirs.sort()"
   ]
  },
  {
   "cell_type": "code",
   "execution_count": 41,
   "id": "f5ba7c25",
   "metadata": {},
   "outputs": [
    {
     "data": {
      "text/plain": [
       "85"
      ]
     },
     "execution_count": 41,
     "metadata": {},
     "output_type": "execute_result"
    }
   ],
   "source": [
    "len(dirs)"
   ]
  },
  {
   "cell_type": "code",
   "execution_count": 6,
   "id": "4a500b54",
   "metadata": {},
   "outputs": [],
   "source": [
    "for d in dirs:\n",
    "    proteinfile = d+'/protein.mol2'\n",
    "    protein=next(pybel.readfile('mol2',proteinfile))\n",
    "    protein.write('pdb', d+'/tmp.pdb', overwrite=True)"
   ]
  },
  {
   "cell_type": "code",
   "execution_count": 11,
   "id": "bc3cf85b",
   "metadata": {},
   "outputs": [],
   "source": [
    "importlib.reload(predict)\n",
    "model = predict.build_model()\n",
    "with open('evaluation_astex.csv', 'a') as f1:\n",
    "    f1.write('#id\\tscore\\n')\n",
    "    for d in dirs:\n",
    "        n = os.path.split(d)[-1]\n",
    "        proteinfile = d+'/tmp.pdb'\n",
    "        ligandfile = d+'/ligand.mol'\n",
    "        protein = next(pybel.readfile('pdb',proteinfile))\n",
    "        ligand = next(pybel.readfile('mol',ligandfile))\n",
    "        result = predict.predict(protein, ligand, model)\n",
    "        f1.write(n+'\\t%.4f\\n' % result)      "
   ]
  },
  {
   "cell_type": "code",
   "execution_count": 34,
   "id": "7983c6e9",
   "metadata": {},
   "outputs": [],
   "source": [
    "df=pd.read_csv('evaluation_astex.csv')\n",
    "df=df[['id','no','cs','gs','uM','pkd','flag']]"
   ]
  },
  {
   "cell_type": "code",
   "execution_count": 42,
   "id": "d46a95e5",
   "metadata": {},
   "outputs": [],
   "source": [
    "df=df[~df.id.isin(train_id)]"
   ]
  },
  {
   "cell_type": "code",
   "execution_count": 47,
   "id": "5cacf419",
   "metadata": {},
   "outputs": [
    {
     "data": {
      "text/html": [
       "<div>\n",
       "<style scoped>\n",
       "    .dataframe tbody tr th:only-of-type {\n",
       "        vertical-align: middle;\n",
       "    }\n",
       "\n",
       "    .dataframe tbody tr th {\n",
       "        vertical-align: top;\n",
       "    }\n",
       "\n",
       "    .dataframe thead th {\n",
       "        text-align: right;\n",
       "    }\n",
       "</style>\n",
       "<table border=\"1\" class=\"dataframe\">\n",
       "  <thead>\n",
       "    <tr style=\"text-align: right;\">\n",
       "      <th></th>\n",
       "      <th>id</th>\n",
       "      <th>no</th>\n",
       "      <th>cs</th>\n",
       "      <th>gs</th>\n",
       "      <th>uM</th>\n",
       "      <th>pkd</th>\n",
       "      <th>flag</th>\n",
       "    </tr>\n",
       "  </thead>\n",
       "  <tbody>\n",
       "    <tr>\n",
       "      <th>2</th>\n",
       "      <td>1gm8</td>\n",
       "      <td>4.2294</td>\n",
       "      <td>4.1739</td>\n",
       "      <td>4.1866</td>\n",
       "      <td>16.000</td>\n",
       "      <td>4.795880</td>\n",
       "      <td>4</td>\n",
       "    </tr>\n",
       "    <tr>\n",
       "      <th>3</th>\n",
       "      <td>1gpk</td>\n",
       "      <td>7.0961</td>\n",
       "      <td>7.1679</td>\n",
       "      <td>7.1279</td>\n",
       "      <td>4.300</td>\n",
       "      <td>5.366532</td>\n",
       "      <td>2</td>\n",
       "    </tr>\n",
       "    <tr>\n",
       "      <th>4</th>\n",
       "      <td>1hnn</td>\n",
       "      <td>6.1904</td>\n",
       "      <td>6.1998</td>\n",
       "      <td>6.2130</td>\n",
       "      <td>0.580</td>\n",
       "      <td>6.236572</td>\n",
       "      <td>2</td>\n",
       "    </tr>\n",
       "    <tr>\n",
       "      <th>5</th>\n",
       "      <td>1hp0</td>\n",
       "      <td>5.3715</td>\n",
       "      <td>5.3960</td>\n",
       "      <td>5.3411</td>\n",
       "      <td>0.200</td>\n",
       "      <td>6.698970</td>\n",
       "      <td>2</td>\n",
       "    </tr>\n",
       "    <tr>\n",
       "      <th>6</th>\n",
       "      <td>1hq2</td>\n",
       "      <td>5.2207</td>\n",
       "      <td>5.2957</td>\n",
       "      <td>5.2944</td>\n",
       "      <td>0.170</td>\n",
       "      <td>6.769551</td>\n",
       "      <td>2</td>\n",
       "    </tr>\n",
       "    <tr>\n",
       "      <th>...</th>\n",
       "      <td>...</td>\n",
       "      <td>...</td>\n",
       "      <td>...</td>\n",
       "      <td>...</td>\n",
       "      <td>...</td>\n",
       "      <td>...</td>\n",
       "      <td>...</td>\n",
       "    </tr>\n",
       "    <tr>\n",
       "      <th>80</th>\n",
       "      <td>1ywr</td>\n",
       "      <td>8.5442</td>\n",
       "      <td>8.6044</td>\n",
       "      <td>8.5874</td>\n",
       "      <td>0.032</td>\n",
       "      <td>7.494850</td>\n",
       "      <td>1</td>\n",
       "    </tr>\n",
       "    <tr>\n",
       "      <th>81</th>\n",
       "      <td>1z95</td>\n",
       "      <td>8.9788</td>\n",
       "      <td>8.9973</td>\n",
       "      <td>8.9973</td>\n",
       "      <td>0.076</td>\n",
       "      <td>7.119186</td>\n",
       "      <td>2</td>\n",
       "    </tr>\n",
       "    <tr>\n",
       "      <th>82</th>\n",
       "      <td>2bm2</td>\n",
       "      <td>5.6437</td>\n",
       "      <td>5.6585</td>\n",
       "      <td>5.6573</td>\n",
       "      <td>0.015</td>\n",
       "      <td>7.823909</td>\n",
       "      <td>2</td>\n",
       "    </tr>\n",
       "    <tr>\n",
       "      <th>83</th>\n",
       "      <td>2br1</td>\n",
       "      <td>6.5242</td>\n",
       "      <td>6.5335</td>\n",
       "      <td>6.5464</td>\n",
       "      <td>15.400</td>\n",
       "      <td>4.812479</td>\n",
       "      <td>1</td>\n",
       "    </tr>\n",
       "    <tr>\n",
       "      <th>84</th>\n",
       "      <td>2bsm</td>\n",
       "      <td>7.1368</td>\n",
       "      <td>7.1026</td>\n",
       "      <td>7.1226</td>\n",
       "      <td>0.140</td>\n",
       "      <td>6.853872</td>\n",
       "      <td>1</td>\n",
       "    </tr>\n",
       "  </tbody>\n",
       "</table>\n",
       "<p>74 rows × 7 columns</p>\n",
       "</div>"
      ],
      "text/plain": [
       "      id      no      cs      gs      uM       pkd  flag\n",
       "2   1gm8  4.2294  4.1739  4.1866  16.000  4.795880     4\n",
       "3   1gpk  7.0961  7.1679  7.1279   4.300  5.366532     2\n",
       "4   1hnn  6.1904  6.1998  6.2130   0.580  6.236572     2\n",
       "5   1hp0  5.3715  5.3960  5.3411   0.200  6.698970     2\n",
       "6   1hq2  5.2207  5.2957  5.2944   0.170  6.769551     2\n",
       "..   ...     ...     ...     ...     ...       ...   ...\n",
       "80  1ywr  8.5442  8.6044  8.5874   0.032  7.494850     1\n",
       "81  1z95  8.9788  8.9973  8.9973   0.076  7.119186     2\n",
       "82  2bm2  5.6437  5.6585  5.6573   0.015  7.823909     2\n",
       "83  2br1  6.5242  6.5335  6.5464  15.400  4.812479     1\n",
       "84  2bsm  7.1368  7.1026  7.1226   0.140  6.853872     1\n",
       "\n",
       "[74 rows x 7 columns]"
      ]
     },
     "execution_count": 47,
     "metadata": {},
     "output_type": "execute_result"
    }
   ],
   "source": [
    "df"
   ]
  },
  {
   "cell_type": "code",
   "execution_count": 46,
   "id": "87410bea",
   "metadata": {},
   "outputs": [],
   "source": [
    "df=df[df.flag!=0]"
   ]
  },
  {
   "cell_type": "code",
   "execution_count": 48,
   "id": "6d349def",
   "metadata": {},
   "outputs": [
    {
     "data": {
      "text/html": [
       "<div>\n",
       "<style scoped>\n",
       "    .dataframe tbody tr th:only-of-type {\n",
       "        vertical-align: middle;\n",
       "    }\n",
       "\n",
       "    .dataframe tbody tr th {\n",
       "        vertical-align: top;\n",
       "    }\n",
       "\n",
       "    .dataframe thead th {\n",
       "        text-align: right;\n",
       "    }\n",
       "</style>\n",
       "<table border=\"1\" class=\"dataframe\">\n",
       "  <thead>\n",
       "    <tr style=\"text-align: right;\">\n",
       "      <th></th>\n",
       "      <th>no</th>\n",
       "      <th>pkd</th>\n",
       "    </tr>\n",
       "  </thead>\n",
       "  <tbody>\n",
       "    <tr>\n",
       "      <th>no</th>\n",
       "      <td>1.000000</td>\n",
       "      <td>0.647432</td>\n",
       "    </tr>\n",
       "    <tr>\n",
       "      <th>pkd</th>\n",
       "      <td>0.647432</td>\n",
       "      <td>1.000000</td>\n",
       "    </tr>\n",
       "  </tbody>\n",
       "</table>\n",
       "</div>"
      ],
      "text/plain": [
       "           no       pkd\n",
       "no   1.000000  0.647432\n",
       "pkd  0.647432  1.000000"
      ]
     },
     "execution_count": 48,
     "metadata": {},
     "output_type": "execute_result"
    }
   ],
   "source": [
    "df[['no','pkd']].corr() "
   ]
  },
  {
   "cell_type": "code",
   "execution_count": 71,
   "id": "f0ad1ca9",
   "metadata": {},
   "outputs": [
    {
     "data": {
      "text/plain": [
       "1.3626550029016888"
      ]
     },
     "execution_count": 71,
     "metadata": {},
     "output_type": "execute_result"
    }
   ],
   "source": [
    "np.sqrt(np.mean((df['no']-df['pkd'])**2))    ###rmse"
   ]
  },
  {
   "cell_type": "code",
   "execution_count": 72,
   "id": "8333dd68",
   "metadata": {},
   "outputs": [
    {
     "data": {
      "text/plain": [
       "1.051848235148649"
      ]
     },
     "execution_count": 72,
     "metadata": {},
     "output_type": "execute_result"
    }
   ],
   "source": [
    "np.mean(np.abs(df['no']-df['pkd'])) "
   ]
  },
  {
   "cell_type": "code",
   "execution_count": 73,
   "id": "b9395042",
   "metadata": {},
   "outputs": [
    {
     "data": {
      "text/plain": [
       "array([1.3108791])"
      ]
     },
     "execution_count": 73,
     "metadata": {},
     "output_type": "execute_result"
    }
   ],
   "source": [
    "regr=linear_model.LinearRegression()\n",
    "x=df['no'].values.reshape(-1,1)\n",
    "y=df['pkd'].values.reshape(-1,1)\n",
    "regr.fit(x,y)\n",
    "y_ = regr.predict(x)\n",
    "np.sqrt(sum((y-y_)**2)/73)"
   ]
  },
  {
   "cell_type": "markdown",
   "id": "3395d00a",
   "metadata": {},
   "source": [
    "## vinaRF"
   ]
  },
  {
   "cell_type": "code",
   "execution_count": 16,
   "id": "dbdf95f2",
   "metadata": {},
   "outputs": [],
   "source": [
    "rf2014 = []\n",
    "with open('INDEX_refined_name.2014', 'r') as f:\n",
    "    for line in f.readlines():\n",
    "        if line[0] != '#':\n",
    "            rf2014.append(line[:4])"
   ]
  },
  {
   "cell_type": "code",
   "execution_count": 15,
   "id": "8ce7e0e9",
   "metadata": {},
   "outputs": [],
   "source": [
    "from glob import glob\n",
    "import os"
   ]
  },
  {
   "cell_type": "code",
   "execution_count": 17,
   "id": "db8cb3c4",
   "metadata": {},
   "outputs": [],
   "source": [
    "core_dirs = glob(os.path.join('CASF-2013','CASF-2013','coreset','*'))\n",
    "core_dirs.sort()\n",
    "core_2013 = [os.path.split(i)[-1] for i in core_dirs]"
   ]
  },
  {
   "cell_type": "code",
   "execution_count": 18,
   "id": "4f53e6c6",
   "metadata": {},
   "outputs": [],
   "source": [
    "core_2007 = []\n",
    "with open('PDBbind_core_set_v2007.2.lst', 'r') as f:\n",
    "    for line in f.readlines():\n",
    "        if line[0] != '#':\n",
    "            core_2007.append(line[:4])"
   ]
  },
  {
   "cell_type": "code",
   "execution_count": 19,
   "id": "b3a7f0c9",
   "metadata": {},
   "outputs": [],
   "source": [
    "core_dirs = glob(os.path.join('CASF-2016','CASF-2016','coreset','*'))\n",
    "core_dirs.sort()\n",
    "core_2016 = [os.path.split(i)[-1] for i in core_dirs]"
   ]
  },
  {
   "cell_type": "code",
   "execution_count": 9,
   "id": "38dd2eb4",
   "metadata": {},
   "outputs": [],
   "source": [
    "rf2014_new = []\n",
    "for i in rf2014:\n",
    "    if i not in core_2013 and i not in core_2007:\n",
    "        rf2014_new.append(i)"
   ]
  },
  {
   "cell_type": "code",
   "execution_count": 8,
   "id": "9a10a5bb",
   "metadata": {},
   "outputs": [
    {
     "data": {
      "text/plain": [
       "195"
      ]
     },
     "execution_count": 8,
     "metadata": {},
     "output_type": "execute_result"
    }
   ],
   "source": [
    "len(core_2013)"
   ]
  },
  {
   "cell_type": "code",
   "execution_count": 10,
   "id": "b4567db1",
   "metadata": {},
   "outputs": [
    {
     "data": {
      "text/plain": [
       "3446"
      ]
     },
     "execution_count": 10,
     "metadata": {},
     "output_type": "execute_result"
    }
   ],
   "source": [
    "len(rf2014)"
   ]
  },
  {
   "cell_type": "code",
   "execution_count": 12,
   "id": "fd81b797",
   "metadata": {},
   "outputs": [
    {
     "data": {
      "text/plain": [
       "3113"
      ]
     },
     "execution_count": 12,
     "metadata": {},
     "output_type": "execute_result"
    }
   ],
   "source": [
    "len(rf2014_new)"
   ]
  },
  {
   "cell_type": "code",
   "execution_count": 13,
   "id": "5987b919",
   "metadata": {},
   "outputs": [],
   "source": [
    "overlap = []\n",
    "for i in rf2014_new:\n",
    "    if i in core_2016:\n",
    "        overlap.append(i)"
   ]
  },
  {
   "cell_type": "code",
   "execution_count": 14,
   "id": "db6409db",
   "metadata": {},
   "outputs": [
    {
     "data": {
      "text/plain": [
       "140"
      ]
     },
     "execution_count": 14,
     "metadata": {},
     "output_type": "execute_result"
    }
   ],
   "source": [
    "len(overlap)"
   ]
  },
  {
   "cell_type": "code",
   "execution_count": 21,
   "id": "2ac041e8",
   "metadata": {},
   "outputs": [],
   "source": [
    "from matplotlib import pyplot as plt\n",
    "from matplotlib_venn import venn2"
   ]
  },
  {
   "cell_type": "code",
   "execution_count": 30,
   "id": "47032f4b",
   "metadata": {},
   "outputs": [
    {
     "data": {
      "image/png": "[encoded data removed]",
      "text/plain": [
       "<Figure size 2400x1800 with 1 Axes>"
      ]
     },
     "metadata": {},
     "output_type": "display_data"
    }
   ],
   "source": [
    "my_dpi=600\n",
    "plt.figure(figsize=(8,6),dpi=300)\n",
    "venn2(subsets=[set(rf2014_new),set(core_2016)],set_labels = ('refined-2014*','CASF-2016'))\n",
    "plt.savefig('vinarf-venn.tif')"
   ]
  },
  {
   "cell_type": "markdown",
   "id": "fe9ad64f",
   "metadata": {},
   "source": [
    "# pafnucy"
   ]
  },
  {
   "cell_type": "code",
   "execution_count": 50,
   "id": "cb8a5f43",
   "metadata": {},
   "outputs": [],
   "source": [
    "dirs1 = glob('set1/*')\n",
    "dirs1.sort()\n",
    "dirs2 = glob('set2/*')\n",
    "dirs2.sort()"
   ]
  },
  {
   "cell_type": "code",
   "execution_count": 57,
   "id": "b67b156f",
   "metadata": {},
   "outputs": [],
   "source": [
    "ligand = ' '.join([d+'/tmp3.pdb' for d in dirs2])\n",
    "protein = ' '.join([d+'/tmp2.pdb' for d in dirs2])\n",
    "exe = 'python prepare.py -l '+ligand+' --ligand_format pdb -p '+protein+' --pocket_format pdb -o complexes_set2.hdf' \n",
    "os.system(exe)\n",
    "exe = 'python predict.py -i complexes_set2.hdf -o set2_complex.csv'"
   ]
  },
  {
   "cell_type": "code",
   "execution_count": 62,
   "id": "9955e9fd",
   "metadata": {},
   "outputs": [],
   "source": [
    "ligand = ' '.join([d+'/tmp3.pdb' for d in dirs1])\n",
    "protein = ' '.join([d+'/tmp2.pdb' for d in dirs1])\n",
    "exe = 'python prepare.py -l '+ligand+' --ligand_format pdb -p '+protein+' --pocket_format pdb -o complexes_set1.hdf' \n",
    "os.system(exe)\n",
    "exe = 'python predict.py -i complexes_set1.hdf -o set1_complex.csv'"
   ]
  },
  {
   "cell_type": "code",
   "execution_count": null,
   "id": "a4dc3d4e",
   "metadata": {},
   "outputs": [],
   "source": [
    "dfset1 = pd.read_csv('set2_kd.csv',header=None,names=['#id','pdbid','true'])\n",
    "dfpre = pd.read_csv('set2_complex.csv')\n",
    "df=pd.merge(dfset1,dfpre,on='#id')\n",
    "df.to_csv('set2_complex_new.csv',index=None)"
   ]
  },
  {
   "cell_type": "code",
   "execution_count": null,
   "id": "d0f317cc",
   "metadata": {},
   "outputs": [],
   "source": [
    "dfset1 = pd.read_csv('set1_kd.csv',header=None,names=['#id','pdbid','true'])\n",
    "dfpre = pd.read_csv('set1_complex.csv')\n",
    "df=pd.merge(dfset1,dfpre,on='#id')\n",
    "df.to_csv('set1_complex_new.csv',index=None)"
   ]
  },
  {
   "cell_type": "code",
   "execution_count": 19,
   "id": "1d13a27b",
   "metadata": {},
   "outputs": [],
   "source": [
    "df1 = pd.read_csv('CSAR_NRC_HiQ_Set/Structures/set1_complex_new.csv')\n",
    "df2 = pd.read_csv('CSAR_NRC_HiQ_Set/Structures/set2_complex_new.csv')\n",
    "df = pd.concat([df1,df2], axis = 0)"
   ]
  },
  {
   "cell_type": "code",
   "execution_count": 20,
   "id": "d918bd3c",
   "metadata": {},
   "outputs": [
    {
     "data": {
      "text/html": [
       "<div>\n",
       "<style scoped>\n",
       "    .dataframe tbody tr th:only-of-type {\n",
       "        vertical-align: middle;\n",
       "    }\n",
       "\n",
       "    .dataframe tbody tr th {\n",
       "        vertical-align: top;\n",
       "    }\n",
       "\n",
       "    .dataframe thead th {\n",
       "        text-align: right;\n",
       "    }\n",
       "</style>\n",
       "<table border=\"1\" class=\"dataframe\">\n",
       "  <thead>\n",
       "    <tr style=\"text-align: right;\">\n",
       "      <th></th>\n",
       "      <th>#id</th>\n",
       "      <th>pdbid</th>\n",
       "      <th>true</th>\n",
       "      <th>score</th>\n",
       "    </tr>\n",
       "  </thead>\n",
       "  <tbody>\n",
       "    <tr>\n",
       "      <th>0</th>\n",
       "      <td>1</td>\n",
       "      <td>1w6o</td>\n",
       "      <td>3.34</td>\n",
       "      <td>4.612811</td>\n",
       "    </tr>\n",
       "    <tr>\n",
       "      <th>1</th>\n",
       "      <td>100</td>\n",
       "      <td>2q89</td>\n",
       "      <td>6.30</td>\n",
       "      <td>5.393340</td>\n",
       "    </tr>\n",
       "    <tr>\n",
       "      <th>2</th>\n",
       "      <td>102</td>\n",
       "      <td>2qeh</td>\n",
       "      <td>8.62</td>\n",
       "      <td>6.646016</td>\n",
       "    </tr>\n",
       "    <tr>\n",
       "      <th>3</th>\n",
       "      <td>103</td>\n",
       "      <td>2qvu</td>\n",
       "      <td>6.44</td>\n",
       "      <td>5.714074</td>\n",
       "    </tr>\n",
       "    <tr>\n",
       "      <th>4</th>\n",
       "      <td>104</td>\n",
       "      <td>2r3d</td>\n",
       "      <td>-0.15</td>\n",
       "      <td>3.635150</td>\n",
       "    </tr>\n",
       "    <tr>\n",
       "      <th>...</th>\n",
       "      <td>...</td>\n",
       "      <td>...</td>\n",
       "      <td>...</td>\n",
       "      <td>...</td>\n",
       "    </tr>\n",
       "    <tr>\n",
       "      <th>162</th>\n",
       "      <td>95</td>\n",
       "      <td>1syh</td>\n",
       "      <td>6.41</td>\n",
       "      <td>6.231136</td>\n",
       "    </tr>\n",
       "    <tr>\n",
       "      <th>163</th>\n",
       "      <td>96</td>\n",
       "      <td>1syi</td>\n",
       "      <td>5.48</td>\n",
       "      <td>6.193870</td>\n",
       "    </tr>\n",
       "    <tr>\n",
       "      <th>164</th>\n",
       "      <td>97</td>\n",
       "      <td>1toj</td>\n",
       "      <td>3.39</td>\n",
       "      <td>6.772186</td>\n",
       "    </tr>\n",
       "    <tr>\n",
       "      <th>165</th>\n",
       "      <td>98</td>\n",
       "      <td>1tok</td>\n",
       "      <td>2.47</td>\n",
       "      <td>5.269271</td>\n",
       "    </tr>\n",
       "    <tr>\n",
       "      <th>166</th>\n",
       "      <td>99</td>\n",
       "      <td>1u1w</td>\n",
       "      <td>5.85</td>\n",
       "      <td>5.022383</td>\n",
       "    </tr>\n",
       "  </tbody>\n",
       "</table>\n",
       "<p>343 rows × 4 columns</p>\n",
       "</div>"
      ],
      "text/plain": [
       "     #id   pdbid  true     score\n",
       "0      1   1w6o   3.34  4.612811\n",
       "1    100   2q89   6.30  5.393340\n",
       "2    102   2qeh   8.62  6.646016\n",
       "3    103   2qvu   6.44  5.714074\n",
       "4    104   2r3d  -0.15  3.635150\n",
       "..   ...     ...   ...       ...\n",
       "162   95   1syh   6.41  6.231136\n",
       "163   96   1syi   5.48  6.193870\n",
       "164   97   1toj   3.39  6.772186\n",
       "165   98   1tok   2.47  5.269271\n",
       "166   99   1u1w   5.85  5.022383\n",
       "\n",
       "[343 rows x 4 columns]"
      ]
     },
     "execution_count": 20,
     "metadata": {},
     "output_type": "execute_result"
    }
   ],
   "source": [
    "df"
   ]
  },
  {
   "cell_type": "code",
   "execution_count": 21,
   "id": "13334001",
   "metadata": {},
   "outputs": [
    {
     "data": {
      "text/html": [
       "<div>\n",
       "<style scoped>\n",
       "    .dataframe tbody tr th:only-of-type {\n",
       "        vertical-align: middle;\n",
       "    }\n",
       "\n",
       "    .dataframe tbody tr th {\n",
       "        vertical-align: top;\n",
       "    }\n",
       "\n",
       "    .dataframe thead th {\n",
       "        text-align: right;\n",
       "    }\n",
       "</style>\n",
       "<table border=\"1\" class=\"dataframe\">\n",
       "  <thead>\n",
       "    <tr style=\"text-align: right;\">\n",
       "      <th></th>\n",
       "      <th>true</th>\n",
       "      <th>score</th>\n",
       "    </tr>\n",
       "  </thead>\n",
       "  <tbody>\n",
       "    <tr>\n",
       "      <th>true</th>\n",
       "      <td>1.000000</td>\n",
       "      <td>0.669349</td>\n",
       "    </tr>\n",
       "    <tr>\n",
       "      <th>score</th>\n",
       "      <td>0.669349</td>\n",
       "      <td>1.000000</td>\n",
       "    </tr>\n",
       "  </tbody>\n",
       "</table>\n",
       "</div>"
      ],
      "text/plain": [
       "           true     score\n",
       "true   1.000000  0.669349\n",
       "score  0.669349  1.000000"
      ]
     },
     "execution_count": 21,
     "metadata": {},
     "output_type": "execute_result"
    }
   ],
   "source": [
    "df[['true','score']].corr() "
   ]
  },
  {
   "cell_type": "code",
   "execution_count": 69,
   "id": "5d1ae9ac",
   "metadata": {},
   "outputs": [
    {
     "data": {
      "text/plain": [
       "1.6805397629213328"
      ]
     },
     "execution_count": 69,
     "metadata": {},
     "output_type": "execute_result"
    }
   ],
   "source": [
    "np.sqrt(np.mean((df['true']-df['score'])**2))    ###rmse"
   ]
  },
  {
   "cell_type": "code",
   "execution_count": 70,
   "id": "78bc43ae",
   "metadata": {},
   "outputs": [
    {
     "data": {
      "text/plain": [
       "1.3335995623906711"
      ]
     },
     "execution_count": 70,
     "metadata": {},
     "output_type": "execute_result"
    }
   ],
   "source": [
    "np.mean(np.abs(df['true']-df['score'])) "
   ]
  },
  {
   "cell_type": "code",
   "execution_count": 22,
   "id": "56740303",
   "metadata": {},
   "outputs": [],
   "source": [
    "rf2016 = []\n",
    "with open('INDEX_refined_name.2016', 'r') as f:\n",
    "    for line in f.readlines():\n",
    "        if line[0] != '#':\n",
    "            rf2016.append(line[:4])"
   ]
  },
  {
   "cell_type": "code",
   "execution_count": 132,
   "id": "7b7d213b",
   "metadata": {},
   "outputs": [
    {
     "data": {
      "text/plain": [
       "4057"
      ]
     },
     "execution_count": 132,
     "metadata": {},
     "output_type": "execute_result"
    }
   ],
   "source": [
    "len(rf2016)"
   ]
  },
  {
   "cell_type": "code",
   "execution_count": 23,
   "id": "9146bfed",
   "metadata": {},
   "outputs": [],
   "source": [
    "core_dirs = glob(os.path.join('CASF-2016','CASF-2016','coreset','*'))\n",
    "core_dirs.sort()\n",
    "core_2016 = [os.path.split(i)[-1] for i in core_dirs]"
   ]
  },
  {
   "cell_type": "code",
   "execution_count": 24,
   "id": "5a4ac7b1",
   "metadata": {},
   "outputs": [],
   "source": [
    "rf2016_new = []\n",
    "for i in rf2016:\n",
    "    if i not in core_2016:\n",
    "        rf2016_new.append(i)"
   ]
  },
  {
   "cell_type": "code",
   "execution_count": 25,
   "id": "35a6e3a0",
   "metadata": {},
   "outputs": [
    {
     "data": {
      "text/plain": [
       "3772"
      ]
     },
     "execution_count": 25,
     "metadata": {},
     "output_type": "execute_result"
    }
   ],
   "source": [
    "len(rf2016_new)"
   ]
  },
  {
   "cell_type": "code",
   "execution_count": 26,
   "id": "cb8f5eb0",
   "metadata": {},
   "outputs": [],
   "source": [
    "df=df[~df.pdbid.str[1:5].isin(rf2016_new)]"
   ]
  },
  {
   "cell_type": "code",
   "execution_count": 27,
   "id": "f7e1fc4a",
   "metadata": {},
   "outputs": [
    {
     "data": {
      "text/html": [
       "<div>\n",
       "<style scoped>\n",
       "    .dataframe tbody tr th:only-of-type {\n",
       "        vertical-align: middle;\n",
       "    }\n",
       "\n",
       "    .dataframe tbody tr th {\n",
       "        vertical-align: top;\n",
       "    }\n",
       "\n",
       "    .dataframe thead th {\n",
       "        text-align: right;\n",
       "    }\n",
       "</style>\n",
       "<table border=\"1\" class=\"dataframe\">\n",
       "  <thead>\n",
       "    <tr style=\"text-align: right;\">\n",
       "      <th></th>\n",
       "      <th>#id</th>\n",
       "      <th>pdbid</th>\n",
       "      <th>true</th>\n",
       "      <th>score</th>\n",
       "    </tr>\n",
       "  </thead>\n",
       "  <tbody>\n",
       "    <tr>\n",
       "      <th>0</th>\n",
       "      <td>1</td>\n",
       "      <td>1w6o</td>\n",
       "      <td>3.34</td>\n",
       "      <td>4.612811</td>\n",
       "    </tr>\n",
       "    <tr>\n",
       "      <th>2</th>\n",
       "      <td>102</td>\n",
       "      <td>2qeh</td>\n",
       "      <td>8.62</td>\n",
       "      <td>6.646016</td>\n",
       "    </tr>\n",
       "    <tr>\n",
       "      <th>3</th>\n",
       "      <td>103</td>\n",
       "      <td>2qvu</td>\n",
       "      <td>6.44</td>\n",
       "      <td>5.714074</td>\n",
       "    </tr>\n",
       "    <tr>\n",
       "      <th>4</th>\n",
       "      <td>104</td>\n",
       "      <td>2r3d</td>\n",
       "      <td>-0.15</td>\n",
       "      <td>3.635150</td>\n",
       "    </tr>\n",
       "    <tr>\n",
       "      <th>6</th>\n",
       "      <td>106</td>\n",
       "      <td>2rde</td>\n",
       "      <td>7.01</td>\n",
       "      <td>5.687013</td>\n",
       "    </tr>\n",
       "    <tr>\n",
       "      <th>...</th>\n",
       "      <td>...</td>\n",
       "      <td>...</td>\n",
       "      <td>...</td>\n",
       "      <td>...</td>\n",
       "    </tr>\n",
       "    <tr>\n",
       "      <th>153</th>\n",
       "      <td>78</td>\n",
       "      <td>1p1n</td>\n",
       "      <td>6.80</td>\n",
       "      <td>6.040266</td>\n",
       "    </tr>\n",
       "    <tr>\n",
       "      <th>155</th>\n",
       "      <td>81</td>\n",
       "      <td>1ps3</td>\n",
       "      <td>2.28</td>\n",
       "      <td>7.944760</td>\n",
       "    </tr>\n",
       "    <tr>\n",
       "      <th>157</th>\n",
       "      <td>87</td>\n",
       "      <td>1r5y</td>\n",
       "      <td>6.46</td>\n",
       "      <td>5.452320</td>\n",
       "    </tr>\n",
       "    <tr>\n",
       "      <th>158</th>\n",
       "      <td>88</td>\n",
       "      <td>1s38</td>\n",
       "      <td>5.15</td>\n",
       "      <td>6.049811</td>\n",
       "    </tr>\n",
       "    <tr>\n",
       "      <th>163</th>\n",
       "      <td>96</td>\n",
       "      <td>1syi</td>\n",
       "      <td>5.48</td>\n",
       "      <td>6.193870</td>\n",
       "    </tr>\n",
       "  </tbody>\n",
       "</table>\n",
       "<p>136 rows × 4 columns</p>\n",
       "</div>"
      ],
      "text/plain": [
       "     #id   pdbid  true     score\n",
       "0      1   1w6o   3.34  4.612811\n",
       "2    102   2qeh   8.62  6.646016\n",
       "3    103   2qvu   6.44  5.714074\n",
       "4    104   2r3d  -0.15  3.635150\n",
       "6    106   2rde   7.01  5.687013\n",
       "..   ...     ...   ...       ...\n",
       "153   78   1p1n   6.80  6.040266\n",
       "155   81   1ps3   2.28  7.944760\n",
       "157   87   1r5y   6.46  5.452320\n",
       "158   88   1s38   5.15  6.049811\n",
       "163   96   1syi   5.48  6.193870\n",
       "\n",
       "[136 rows x 4 columns]"
      ]
     },
     "execution_count": 27,
     "metadata": {},
     "output_type": "execute_result"
    }
   ],
   "source": [
    "df"
   ]
  },
  {
   "cell_type": "code",
   "execution_count": 28,
   "id": "34e35573",
   "metadata": {},
   "outputs": [
    {
     "data": {
      "text/html": [
       "<div>\n",
       "<style scoped>\n",
       "    .dataframe tbody tr th:only-of-type {\n",
       "        vertical-align: middle;\n",
       "    }\n",
       "\n",
       "    .dataframe tbody tr th {\n",
       "        vertical-align: top;\n",
       "    }\n",
       "\n",
       "    .dataframe thead th {\n",
       "        text-align: right;\n",
       "    }\n",
       "</style>\n",
       "<table border=\"1\" class=\"dataframe\">\n",
       "  <thead>\n",
       "    <tr style=\"text-align: right;\">\n",
       "      <th></th>\n",
       "      <th>true</th>\n",
       "      <th>score</th>\n",
       "    </tr>\n",
       "  </thead>\n",
       "  <tbody>\n",
       "    <tr>\n",
       "      <th>true</th>\n",
       "      <td>1.000000</td>\n",
       "      <td>0.704046</td>\n",
       "    </tr>\n",
       "    <tr>\n",
       "      <th>score</th>\n",
       "      <td>0.704046</td>\n",
       "      <td>1.000000</td>\n",
       "    </tr>\n",
       "  </tbody>\n",
       "</table>\n",
       "</div>"
      ],
      "text/plain": [
       "           true     score\n",
       "true   1.000000  0.704046\n",
       "score  0.704046  1.000000"
      ]
     },
     "execution_count": 28,
     "metadata": {},
     "output_type": "execute_result"
    }
   ],
   "source": [
    "df[['true','score']].corr() "
   ]
  },
  {
   "cell_type": "code",
   "execution_count": 142,
   "id": "841d68c5",
   "metadata": {},
   "outputs": [
    {
     "data": {
      "text/plain": [
       "1.8867993671073664"
      ]
     },
     "execution_count": 142,
     "metadata": {},
     "output_type": "execute_result"
    }
   ],
   "source": [
    "np.sqrt(np.mean((df['true']-df['score'])**2))    ###rmse"
   ]
  },
  {
   "cell_type": "code",
   "execution_count": 143,
   "id": "620d5db3",
   "metadata": {},
   "outputs": [
    {
     "data": {
      "text/plain": [
       "1.5229620066176461"
      ]
     },
     "execution_count": 143,
     "metadata": {},
     "output_type": "execute_result"
    }
   ],
   "source": [
    "np.mean(np.abs(df['true']-df['score'])) "
   ]
  },
  {
   "cell_type": "code",
   "execution_count": 7,
   "id": "925c841a",
   "metadata": {},
   "outputs": [],
   "source": [
    "df1 = pd.read_csv('results/paf/paf_2013.csv')\n",
    "df2 = pd.read_csv('core_affinity.csv',sep = '\\t')"
   ]
  },
  {
   "cell_type": "code",
   "execution_count": 14,
   "id": "129a18dc",
   "metadata": {},
   "outputs": [
    {
     "data": {
      "text/html": [
       "<div>\n",
       "<style scoped>\n",
       "    .dataframe tbody tr th:only-of-type {\n",
       "        vertical-align: middle;\n",
       "    }\n",
       "\n",
       "    .dataframe tbody tr th {\n",
       "        vertical-align: top;\n",
       "    }\n",
       "\n",
       "    .dataframe thead th {\n",
       "        text-align: right;\n",
       "    }\n",
       "</style>\n",
       "<table border=\"1\" class=\"dataframe\">\n",
       "  <thead>\n",
       "    <tr style=\"text-align: right;\">\n",
       "      <th></th>\n",
       "      <th>name</th>\n",
       "      <th>prediction</th>\n",
       "      <th>pdbid</th>\n",
       "    </tr>\n",
       "  </thead>\n",
       "  <tbody>\n",
       "    <tr>\n",
       "      <th>0</th>\n",
       "      <td>E:\\Jupyter_Notebook\\v2013-core\\10gs\\10gs_ligan...</td>\n",
       "      <td>6.516137</td>\n",
       "      <td>10gs</td>\n",
       "    </tr>\n",
       "    <tr>\n",
       "      <th>1</th>\n",
       "      <td>E:\\Jupyter_Notebook\\v2013-core\\1a30\\1a30_ligan...</td>\n",
       "      <td>6.047908</td>\n",
       "      <td>1a30</td>\n",
       "    </tr>\n",
       "    <tr>\n",
       "      <th>2</th>\n",
       "      <td>E:\\Jupyter_Notebook\\v2013-core\\1bcu\\1bcu_ligan...</td>\n",
       "      <td>6.647414</td>\n",
       "      <td>1bcu</td>\n",
       "    </tr>\n",
       "    <tr>\n",
       "      <th>3</th>\n",
       "      <td>E:\\Jupyter_Notebook\\v2013-core\\1e66\\1e66_ligan...</td>\n",
       "      <td>7.624964</td>\n",
       "      <td>1e66</td>\n",
       "    </tr>\n",
       "    <tr>\n",
       "      <th>4</th>\n",
       "      <td>E:\\Jupyter_Notebook\\v2013-core\\1f8b\\1f8b_ligan...</td>\n",
       "      <td>6.160493</td>\n",
       "      <td>1f8b</td>\n",
       "    </tr>\n",
       "    <tr>\n",
       "      <th>...</th>\n",
       "      <td>...</td>\n",
       "      <td>...</td>\n",
       "      <td>...</td>\n",
       "    </tr>\n",
       "    <tr>\n",
       "      <th>190</th>\n",
       "      <td>E:\\Jupyter_Notebook\\v2013-core\\4djv\\4djv_ligan...</td>\n",
       "      <td>6.727957</td>\n",
       "      <td>4djv</td>\n",
       "    </tr>\n",
       "    <tr>\n",
       "      <th>191</th>\n",
       "      <td>E:\\Jupyter_Notebook\\v2013-core\\4g8m\\4g8m_ligan...</td>\n",
       "      <td>4.712601</td>\n",
       "      <td>4g8m</td>\n",
       "    </tr>\n",
       "    <tr>\n",
       "      <th>192</th>\n",
       "      <td>E:\\Jupyter_Notebook\\v2013-core\\4gid\\4gid_ligan...</td>\n",
       "      <td>7.803432</td>\n",
       "      <td>4gid</td>\n",
       "    </tr>\n",
       "    <tr>\n",
       "      <th>193</th>\n",
       "      <td>E:\\Jupyter_Notebook\\v2013-core\\4gqq\\4gqq_ligan...</td>\n",
       "      <td>5.073180</td>\n",
       "      <td>4gqq</td>\n",
       "    </tr>\n",
       "    <tr>\n",
       "      <th>194</th>\n",
       "      <td>E:\\Jupyter_Notebook\\v2013-core\\4tmn\\4tmn_ligan...</td>\n",
       "      <td>6.669152</td>\n",
       "      <td>4tmn</td>\n",
       "    </tr>\n",
       "  </tbody>\n",
       "</table>\n",
       "<p>195 rows × 3 columns</p>\n",
       "</div>"
      ],
      "text/plain": [
       "                                                  name  prediction pdbid\n",
       "0    E:\\Jupyter_Notebook\\v2013-core\\10gs\\10gs_ligan...    6.516137  10gs\n",
       "1    E:\\Jupyter_Notebook\\v2013-core\\1a30\\1a30_ligan...    6.047908  1a30\n",
       "2    E:\\Jupyter_Notebook\\v2013-core\\1bcu\\1bcu_ligan...    6.647414  1bcu\n",
       "3    E:\\Jupyter_Notebook\\v2013-core\\1e66\\1e66_ligan...    7.624964  1e66\n",
       "4    E:\\Jupyter_Notebook\\v2013-core\\1f8b\\1f8b_ligan...    6.160493  1f8b\n",
       "..                                                 ...         ...   ...\n",
       "190  E:\\Jupyter_Notebook\\v2013-core\\4djv\\4djv_ligan...    6.727957  4djv\n",
       "191  E:\\Jupyter_Notebook\\v2013-core\\4g8m\\4g8m_ligan...    4.712601  4g8m\n",
       "192  E:\\Jupyter_Notebook\\v2013-core\\4gid\\4gid_ligan...    7.803432  4gid\n",
       "193  E:\\Jupyter_Notebook\\v2013-core\\4gqq\\4gqq_ligan...    5.073180  4gqq\n",
       "194  E:\\Jupyter_Notebook\\v2013-core\\4tmn\\4tmn_ligan...    6.669152  4tmn\n",
       "\n",
       "[195 rows x 3 columns]"
      ]
     },
     "execution_count": 14,
     "metadata": {},
     "output_type": "execute_result"
    }
   ],
   "source": [
    "df1"
   ]
  },
  {
   "cell_type": "code",
   "execution_count": 13,
   "id": "4ac9703d",
   "metadata": {},
   "outputs": [],
   "source": [
    "df1['pdbid'] = df1.name.str.split('\\\\',expand=True)[3]"
   ]
  },
  {
   "cell_type": "code",
   "execution_count": 15,
   "id": "53f92003",
   "metadata": {},
   "outputs": [],
   "source": [
    "df = pd.merge(df1,df2,on='pdbid')"
   ]
  },
  {
   "cell_type": "code",
   "execution_count": 16,
   "id": "cf0dfb79",
   "metadata": {},
   "outputs": [
    {
     "data": {
      "text/html": [
       "<div>\n",
       "<style scoped>\n",
       "    .dataframe tbody tr th:only-of-type {\n",
       "        vertical-align: middle;\n",
       "    }\n",
       "\n",
       "    .dataframe tbody tr th {\n",
       "        vertical-align: top;\n",
       "    }\n",
       "\n",
       "    .dataframe thead th {\n",
       "        text-align: right;\n",
       "    }\n",
       "</style>\n",
       "<table border=\"1\" class=\"dataframe\">\n",
       "  <thead>\n",
       "    <tr style=\"text-align: right;\">\n",
       "      <th></th>\n",
       "      <th>name</th>\n",
       "      <th>prediction</th>\n",
       "      <th>pdbid</th>\n",
       "      <th>affinity</th>\n",
       "    </tr>\n",
       "  </thead>\n",
       "  <tbody>\n",
       "    <tr>\n",
       "      <th>0</th>\n",
       "      <td>E:\\Jupyter_Notebook\\v2013-core\\1a30\\1a30_ligan...</td>\n",
       "      <td>6.047908</td>\n",
       "      <td>1a30</td>\n",
       "      <td>4.30</td>\n",
       "    </tr>\n",
       "    <tr>\n",
       "      <th>1</th>\n",
       "      <td>E:\\Jupyter_Notebook\\v2013-core\\1bcu\\1bcu_ligan...</td>\n",
       "      <td>6.647414</td>\n",
       "      <td>1bcu</td>\n",
       "      <td>3.28</td>\n",
       "    </tr>\n",
       "    <tr>\n",
       "      <th>2</th>\n",
       "      <td>E:\\Jupyter_Notebook\\v2013-core\\1e66\\1e66_ligan...</td>\n",
       "      <td>7.624964</td>\n",
       "      <td>1e66</td>\n",
       "      <td>9.89</td>\n",
       "    </tr>\n",
       "    <tr>\n",
       "      <th>3</th>\n",
       "      <td>E:\\Jupyter_Notebook\\v2013-core\\1gpk\\1gpk_ligan...</td>\n",
       "      <td>6.347326</td>\n",
       "      <td>1gpk</td>\n",
       "      <td>5.37</td>\n",
       "    </tr>\n",
       "    <tr>\n",
       "      <th>4</th>\n",
       "      <td>E:\\Jupyter_Notebook\\v2013-core\\1h23\\1h23_ligan...</td>\n",
       "      <td>6.762314</td>\n",
       "      <td>1h23</td>\n",
       "      <td>8.35</td>\n",
       "    </tr>\n",
       "    <tr>\n",
       "      <th>...</th>\n",
       "      <td>...</td>\n",
       "      <td>...</td>\n",
       "      <td>...</td>\n",
       "      <td>...</td>\n",
       "    </tr>\n",
       "    <tr>\n",
       "      <th>102</th>\n",
       "      <td>E:\\Jupyter_Notebook\\v2013-core\\4de1\\4de1_ligan...</td>\n",
       "      <td>6.975261</td>\n",
       "      <td>4de1</td>\n",
       "      <td>5.96</td>\n",
       "    </tr>\n",
       "    <tr>\n",
       "      <th>103</th>\n",
       "      <td>E:\\Jupyter_Notebook\\v2013-core\\4de2\\4de2_ligan...</td>\n",
       "      <td>7.097146</td>\n",
       "      <td>4de2</td>\n",
       "      <td>4.12</td>\n",
       "    </tr>\n",
       "    <tr>\n",
       "      <th>104</th>\n",
       "      <td>E:\\Jupyter_Notebook\\v2013-core\\4djv\\4djv_ligan...</td>\n",
       "      <td>6.727957</td>\n",
       "      <td>4djv</td>\n",
       "      <td>6.72</td>\n",
       "    </tr>\n",
       "    <tr>\n",
       "      <th>105</th>\n",
       "      <td>E:\\Jupyter_Notebook\\v2013-core\\4gid\\4gid_ligan...</td>\n",
       "      <td>7.803432</td>\n",
       "      <td>4gid</td>\n",
       "      <td>10.77</td>\n",
       "    </tr>\n",
       "    <tr>\n",
       "      <th>106</th>\n",
       "      <td>E:\\Jupyter_Notebook\\v2013-core\\4tmn\\4tmn_ligan...</td>\n",
       "      <td>6.669152</td>\n",
       "      <td>4tmn</td>\n",
       "      <td>10.17</td>\n",
       "    </tr>\n",
       "  </tbody>\n",
       "</table>\n",
       "<p>107 rows × 4 columns</p>\n",
       "</div>"
      ],
      "text/plain": [
       "                                                  name  prediction pdbid  \\\n",
       "0    E:\\Jupyter_Notebook\\v2013-core\\1a30\\1a30_ligan...    6.047908  1a30   \n",
       "1    E:\\Jupyter_Notebook\\v2013-core\\1bcu\\1bcu_ligan...    6.647414  1bcu   \n",
       "2    E:\\Jupyter_Notebook\\v2013-core\\1e66\\1e66_ligan...    7.624964  1e66   \n",
       "3    E:\\Jupyter_Notebook\\v2013-core\\1gpk\\1gpk_ligan...    6.347326  1gpk   \n",
       "4    E:\\Jupyter_Notebook\\v2013-core\\1h23\\1h23_ligan...    6.762314  1h23   \n",
       "..                                                 ...         ...   ...   \n",
       "102  E:\\Jupyter_Notebook\\v2013-core\\4de1\\4de1_ligan...    6.975261  4de1   \n",
       "103  E:\\Jupyter_Notebook\\v2013-core\\4de2\\4de2_ligan...    7.097146  4de2   \n",
       "104  E:\\Jupyter_Notebook\\v2013-core\\4djv\\4djv_ligan...    6.727957  4djv   \n",
       "105  E:\\Jupyter_Notebook\\v2013-core\\4gid\\4gid_ligan...    7.803432  4gid   \n",
       "106  E:\\Jupyter_Notebook\\v2013-core\\4tmn\\4tmn_ligan...    6.669152  4tmn   \n",
       "\n",
       "     affinity  \n",
       "0        4.30  \n",
       "1        3.28  \n",
       "2        9.89  \n",
       "3        5.37  \n",
       "4        8.35  \n",
       "..        ...  \n",
       "102      5.96  \n",
       "103      4.12  \n",
       "104      6.72  \n",
       "105     10.77  \n",
       "106     10.17  \n",
       "\n",
       "[107 rows x 4 columns]"
      ]
     },
     "execution_count": 16,
     "metadata": {},
     "output_type": "execute_result"
    }
   ],
   "source": [
    "df"
   ]
  },
  {
   "cell_type": "code",
   "execution_count": 17,
   "id": "69475484",
   "metadata": {},
   "outputs": [
    {
     "data": {
      "text/html": [
       "<div>\n",
       "<style scoped>\n",
       "    .dataframe tbody tr th:only-of-type {\n",
       "        vertical-align: middle;\n",
       "    }\n",
       "\n",
       "    .dataframe tbody tr th {\n",
       "        vertical-align: top;\n",
       "    }\n",
       "\n",
       "    .dataframe thead th {\n",
       "        text-align: right;\n",
       "    }\n",
       "</style>\n",
       "<table border=\"1\" class=\"dataframe\">\n",
       "  <thead>\n",
       "    <tr style=\"text-align: right;\">\n",
       "      <th></th>\n",
       "      <th>prediction</th>\n",
       "      <th>affinity</th>\n",
       "    </tr>\n",
       "  </thead>\n",
       "  <tbody>\n",
       "    <tr>\n",
       "      <th>prediction</th>\n",
       "      <td>1.000000</td>\n",
       "      <td>0.544383</td>\n",
       "    </tr>\n",
       "    <tr>\n",
       "      <th>affinity</th>\n",
       "      <td>0.544383</td>\n",
       "      <td>1.000000</td>\n",
       "    </tr>\n",
       "  </tbody>\n",
       "</table>\n",
       "</div>"
      ],
      "text/plain": [
       "            prediction  affinity\n",
       "prediction    1.000000  0.544383\n",
       "affinity      0.544383  1.000000"
      ]
     },
     "execution_count": 17,
     "metadata": {},
     "output_type": "execute_result"
    }
   ],
   "source": [
    "df[['prediction','affinity']].corr()"
   ]
  },
  {
   "cell_type": "code",
   "execution_count": null,
   "id": "ce52ceb9",
   "metadata": {},
   "outputs": [],
   "source": []
  }
 ],
 "metadata": {
  "kernelspec": {
   "display_name": "Python 3 (ipykernel)",
   "language": "python",
   "name": "python3"
  },
  "language_info": {
   "codemirror_mode": {
    "name": "ipython",
    "version": 3
   },
   "file_extension": ".py",
   "mimetype": "text/x-python",
   "name": "python",
   "nbconvert_exporter": "python",
   "pygments_lexer": "ipython3",
   "version": "3.8.11"
  }
 },
 "nbformat": 4,
 "nbformat_minor": 5
}
